{
 "cells": [
  {
   "cell_type": "code",
   "execution_count": 2,
   "metadata": {},
   "outputs": [],
   "source": [
    "import pandas as pd\n",
    "from matplotlib import pyplot\n",
    "import numpy as np\n",
    "\n",
    "from scipy.special import comb\n",
    "from scipy.stats import spearmanr\n",
    "\n",
    "import warnings\n",
    "warnings.filterwarnings('ignore')"
   ]
  },
  {
   "cell_type": "code",
   "execution_count": 7,
   "metadata": {},
   "outputs": [],
   "source": [
    "data= pd.read_csv('data science final project - Sheet1.csv', index_col='Country')\n",
    "\n",
    "#Create dataframe with no NaN values in the \"Percent GDP invested in education\" or \"Year for percent GDP invested in education\" columns\n",
    "data = data[data['Percent GDP invested in education'].notnull()]\n",
    "data = data[data['Year for percent GDP invested in education'].notnull()]\n",
    "\n",
    "#Create separate dataframe that has no NaN values in the 'GDP (millions)' column for GDP measurements\n",
    "gdp_data = data[data['GDP (millions)'].notnull()]\n",
    "\n",
    "#Remove commas from GDP and population data so that these columns can be converted to numeric values\n",
    "for value in range(len(gdp_data)):\n",
    "    gdp_data['GDP (millions)'][value] = gdp_data['GDP (millions)'][value].replace(\",\", \"\")\n",
    "    if (type(gdp_data['Population 2018'][value]) == str):\n",
    "        gdp_data['Population 2018'][value] = gdp_data['Population 2018'][value].replace(\",\", \"\")\n",
    "        \n",
    "#Convert relevant columns from strings to numeric values\n",
    "gdp_data['GDP (millions)'] = pd.to_numeric(gdp_data['GDP (millions)'])\n",
    "gdp_data['Percent GDP invested in education'] = pd.to_numeric(gdp_data['Percent GDP invested in education'])\n",
    "gdp_data['Population 2018'] = pd.to_numeric(gdp_data['Population 2018'])\n",
    "\n",
    "#Generate a GDP per capita column and make sure there are no null values for this column\n",
    "gdp_data['GDP per capita (thousands)'] = ((1000000 * gdp_data['GDP (millions)']) / gdp_data['Population 2018']) / 1000\n",
    "gdp_data = gdp_data[gdp_data['GDP per capita (thousands)'].notnull()]\n",
    "gdp_data = gdp_data[gdp_data['Homicide per 100,000 people'].notnull()]\n",
    "gdp_data['Homicide per 100,000 people'] = pd.to_numeric(gdp_data['Homicide per 100,000 people'])\n",
    "gdp_data = gdp_data[gdp_data['Happiness Index'].notnull()]\n",
    "gdp_data['Happiness Index'] = pd.to_numeric(gdp_data['Happiness Index'])\n",
    "gdp_data = gdp_data[gdp_data['Life Expectancy'].notnull()]\n",
    "gdp_data['Life Expectancy'] = pd.to_numeric(gdp_data['Life Expectancy'])\n",
    "\n",
    "gdp_data.to_csv('final_data.csv')"
   ]
  }
 ],
 "metadata": {
  "kernelspec": {
   "display_name": "Python 3",
   "language": "python",
   "name": "python3"
  },
  "language_info": {
   "codemirror_mode": {
    "name": "ipython",
    "version": 3
   },
   "file_extension": ".py",
   "mimetype": "text/x-python",
   "name": "python",
   "nbconvert_exporter": "python",
   "pygments_lexer": "ipython3",
   "version": "3.6.5"
  }
 },
 "nbformat": 4,
 "nbformat_minor": 2
}
